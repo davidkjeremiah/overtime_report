{
 "cells": [
  {
   "cell_type": "markdown",
   "metadata": {},
   "source": [
    "# **Create a daily report that tracks details of employees who worked overtime**"
   ]
  },
  {
   "cell_type": "markdown",
   "metadata": {},
   "source": [
    "**Scenario:**\n",
    "\n",
    "As an Data Analyst/Python Developer, working in a medium-sized company, your manager wants you to ***create a report that tracks details of employees who are still clocked-in after 6pm and of employees who though are checked out, clocked out after 6pm*** to compensate their overtime.\n",
    "\n",
    "In your company, there's a system that collects every clock-in and clock-out event of every employee in the company."
   ]
  },
  {
   "cell_type": "markdown",
   "metadata": {},
   "source": [
    "**Problem Statement:** Create a daily report that tracks employees who do overtime (> 6pm) on each day"
   ]
  },
  {
   "cell_type": "markdown",
   "metadata": {},
   "source": [
    "In our scenario, let's consider the ***system*** that collects or tracks every clock-in and clock-out event by every employee in company as an **Employee class**. \n",
    "\n",
    "And each event (either clock-in or clock-out) - detailing the `date`, the `name` of employee, the `department`, the `email` of the employee, the `phone number`, the `salary`, and the event `type` - let's consider them as instances of the `Employee` class."
   ]
  },
  {
   "cell_type": "markdown",
   "metadata": {},
   "source": [
    "### Import the necessary libraries"
   ]
  },
  {
   "cell_type": "code",
   "execution_count": 1,
   "metadata": {},
   "outputs": [],
   "source": [
    "import pandas as pd\n",
    "from datetime import datetime"
   ]
  },
  {
   "cell_type": "markdown",
   "metadata": {},
   "source": [
    "### Clock-in and Clock-out System"
   ]
  },
  {
   "cell_type": "code",
   "execution_count": 2,
   "metadata": {},
   "outputs": [],
   "source": [
    "class Employee:\n",
    "    def __init__(self, date, name, department, position, email, phone_number, salary, event):\n",
    "        self.date=date\n",
    "        self.name=name\n",
    "        self.department=department\n",
    "        self.position=position\n",
    "        self.email=email\n",
    "        self.phone_number=phone_number\n",
    "        self.salary=salary\n",
    "        self.event=event"
   ]
  },
  {
   "cell_type": "markdown",
   "metadata": {},
   "source": [
    "### Input for Script"
   ]
  },
  {
   "cell_type": "markdown",
   "metadata": {},
   "source": [
    "Now's let consider the **input** for our script. \n",
    "\n",
    "Considering our scenario, the input is a list of employees data, each data is an instance of the Employee class. \n",
    "\n",
    "As shown above, an Employee class contains the `date` when the employee clocked-in or out, the `name` of the employee, and so on.\n",
    "\n",
    "In this scenario, we care about the `clock-in` and `clock-out` event type as well as the `time` above 6pm - which are strings"
   ]
  },
  {
   "cell_type": "code",
   "execution_count": 3,
   "metadata": {},
   "outputs": [],
   "source": [
    "employees = [\n",
    "    Employee('2020-01-21 19:45:56', 'Marcus Jeremiah', 'Executive', 'CEO', 'marcus.jeremiah@example.com', '(977) 522-3345', 500000, 'clocked-in'),\n",
    "    Employee('2020-01-21 09:53:42', 'Janene Wolfinger', 'Business Development', 'BDR Manager', 'janene.wolfinger@example.com', '(910) 433-6056', 250000, 'clocked-in'),\n",
    "    Employee('2020-01-21 08:20:01', 'Sheilah Amezcua', 'Design', 'Design Lead', 'sheilah.amezcua@example.com', '(989) 718-6125', 200000, 'clocked-in'),\n",
    "    Employee('2020-01-21 18:53:21', 'Sheilah Amezcua', 'Design', 'Design Lead', 'sheilah.amezcua@example.com', '(989) 718-6125', 200000, 'clocked-out'),\n",
    "    Employee('2020-01-21 18:24:35', 'Janene Wolfinger', 'Business Development', 'BDR Manager', 'janene.wolfinger@example.com', '(910) 433-6056', 250000, 'clocked-out'),\n",
    "]"
   ]
  },
  {
   "cell_type": "markdown",
   "metadata": {},
   "source": [
    "To find out which employees are currently clocked-in after 6pm, we need to check when they clocked-in and when they clocked-out. If an employee clocked-in and then clocked-out, they're no longer clocked-in. But if they didn't clock-out yet, they're still clocked-in. "
   ]
  },
  {
   "cell_type": "code",
   "execution_count": 4,
   "metadata": {},
   "outputs": [],
   "source": [
    "def get_event_date(employee):\n",
    "    return employee.date # event refers to one instance of the event class\n",
    "\n",
    "def current_employees(employees):\n",
    "    employees.sort(key=get_event_date)\n",
    "    format_date = \"%Y-%m-%d %H:%M:%S\"\n",
    "    default_time = datetime.strptime(\"1999-06-25 18:00:00\", format_date).time()\n",
    "    employee_database = {'Date':list(), 'Name':list(), 'Department':list(), 'Email':list(), 'PhoneNumber':list(), 'Salary':list(), 'Event':list()}\n",
    "    for employee in employees:\n",
    "        if (employee.event == \"clocked-in\") & ((datetime.strptime(employee.date, format_date).time()) > default_time):\n",
    "            employee_database['Date'].append(employee.date)\n",
    "            employee_database['Name'].append(employee.name)\n",
    "            employee_database['Department'].append(employee.department)\n",
    "            employee_database['Email'].append(employee.email)\n",
    "            employee_database['PhoneNumber'].append(employee.phone_number)\n",
    "            employee_database['Salary'].append(employee.salary)\n",
    "            employee_database['Event'].append(employee.event)\n",
    "        elif (employee.event == \"clocked-out\") & ((datetime.strptime(employee.date, format_date).time()) > default_time):\n",
    "            employee_database['Date'].append(employee.date)\n",
    "            employee_database['Name'].append(employee.name)\n",
    "            employee_database['Department'].append(employee.department)\n",
    "            employee_database['Email'].append(employee.email)\n",
    "            employee_database['PhoneNumber'].append(employee.phone_number)\n",
    "            employee_database['Salary'].append(employee.salary)\n",
    "            employee_database['Event'].append(employee.event)\n",
    "    return employee_database"
   ]
  },
  {
   "cell_type": "markdown",
   "metadata": {},
   "source": [
    "### Output\n",
    "\n",
    "We want to generate a report that lists details of all the employees who are still clocked-in after 6pm and of employees who though are checked out, clocked out after 6pm. We then want this information printed on the screen as well as saved as a .csv file."
   ]
  },
  {
   "cell_type": "code",
   "execution_count": 5,
   "metadata": {},
   "outputs": [],
   "source": [
    "def generate_report(employee_database):\n",
    "    # create dataset\n",
    "    employee_df = pd.DataFrame(employee_database)\n",
    "    # display report\n",
    "    print(employee_df)\n",
    "    # save dataset as csv\n",
    "    employee_df.to_csv('Employee_clockin_clockout_data.csv', index=False)"
   ]
  },
  {
   "cell_type": "code",
   "execution_count": 6,
   "metadata": {},
   "outputs": [
    {
     "name": "stdout",
     "output_type": "stream",
     "text": [
      "                  Date              Name            Department  \\\n",
      "0  2020-01-21 18:24:35  Janene Wolfinger  Business Development   \n",
      "1  2020-01-21 18:53:21   Sheilah Amezcua                Design   \n",
      "2  2020-01-21 19:45:56   Marcus Jeremiah             Executive   \n",
      "\n",
      "                          Email     PhoneNumber  Salary        Event  \n",
      "0  janene.wolfinger@example.com  (910) 433-6056  250000  clocked-out  \n",
      "1   sheilah.amezcua@example.com  (989) 718-6125  200000  clocked-out  \n",
      "2   marcus.jeremiah@example.com  (977) 522-3345  500000   clocked-in  \n"
     ]
    }
   ],
   "source": [
    "report = current_employees(employees)\n",
    "\n",
    "# display report on screen\n",
    "generate_report(report)"
   ]
  }
 ],
 "metadata": {
  "kernelspec": {
   "display_name": "Python 3.10.6 64-bit",
   "language": "python",
   "name": "python3"
  },
  "language_info": {
   "codemirror_mode": {
    "name": "ipython",
    "version": 3
   },
   "file_extension": ".py",
   "mimetype": "text/x-python",
   "name": "python",
   "nbconvert_exporter": "python",
   "pygments_lexer": "ipython3",
   "version": "3.10.6"
  },
  "orig_nbformat": 4,
  "vscode": {
   "interpreter": {
    "hash": "63963b3f4c440940f0b94a3100916033a226cb4f45979123153792d60aa56d6a"
   }
  }
 },
 "nbformat": 4,
 "nbformat_minor": 2
}
